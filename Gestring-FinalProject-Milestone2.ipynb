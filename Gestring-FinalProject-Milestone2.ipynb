{
 "cells": [
  {
   "cell_type": "markdown",
   "id": "f471ed6c-9f96-4e87-b31d-a67f83dc7bb1",
   "metadata": {},
   "source": [
    "# Final Project - Milestone 2\n",
    "\n",
    "## Serena Gestring - 4/14/25"
   ]
  },
  {
   "cell_type": "markdown",
   "id": "309ac134-2315-489e-afb7-eeede094c745",
   "metadata": {},
   "source": [
    "Please scroll down to \"~ Start Milestone 2 ~\" to view my work for Milestone 2."
   ]
  },
  {
   "cell_type": "markdown",
   "id": "273c5cd1-83da-4745-8cac-8d954b9038ab",
   "metadata": {},
   "source": [
    "### *~ Start Milestone 1 ~*"
   ]
  },
  {
   "cell_type": "markdown",
   "id": "da947d7d-5bab-43cd-880c-ceeffac7c5cd",
   "metadata": {},
   "source": [
    "For my project, I was able to acquire five different csv files with different web analytics data for the Kent State LGBTQ+ Center website (https://www.kent.edu/lgbtq). Four of these files were downloaded directly from the university's Google Analytics account, and the fifth file was sent to me by the Executive Director of Digital Communications within UCM Operations (I think because that data is housed in a system that I cannot be given access to like I was with Google Analytics). The Executive Director also gave me specific instructions on how to correctly download the data I needed for my center's website.\n",
    "\n",
    "The data contained within each of the five data files were collected over the course of one year, specifically between March 9, 2024 and March 9, 2025. This is because the Executive Director who sent me the non-Google Analytics file input those dates into the external system for data retrieval. I did not ask for those particular dates, but they are very close to being within the past year (the day I received the data was March 18, 2025), so I decided not to ask for different dates. Because of this, when I went to download the Google Analytics data I set the date range in that system to March 9, 2024 through March 9, 2025 so that all of my data covers the same year-long timeframe. \n",
    "\n",
    "A more thorough discussion of my data sources and data quality is provided in this Milestone's reflection (located in the README.md file in my final project repository).  "
   ]
  },
  {
   "cell_type": "markdown",
   "id": "3b5024ad-ee05-4bc2-baaa-64bf092aa322",
   "metadata": {},
   "source": [
    "### Import Pandas and Data Visualization Modules\n",
    "\n",
    "To start I imported the pandas module, as well as matplotlib and seaborn so I can quickly start experimenting with different data visualizations."
   ]
  },
  {
   "cell_type": "code",
   "execution_count": 21,
   "id": "be0045c6-1e19-40d3-a0e4-8759734bc6d7",
   "metadata": {},
   "outputs": [],
   "source": [
    "import pandas as pd\n",
    "from matplotlib import pyplot as plt\n",
    "import seaborn as sns"
   ]
  },
  {
   "cell_type": "markdown",
   "id": "1b54496c-9816-4ac3-b682-52385d3a5d5e",
   "metadata": {},
   "source": [
    "### Device Category\n",
    "\n",
    "The first data file has to do with the variety of devices that were used to access the LGBTQ+ Center website during the 12 month time frame. I don't need to use df.head() for this file because there are only four total rows included, meaning that there were only four different types of devices used. Also, I was fortunate that this data is already tidy; each row/observation is a type of device and each column/variable is a measureable aspect of that device type's usage.  "
   ]
  },
  {
   "cell_type": "code",
   "execution_count": null,
   "id": "fe9c0532-f89f-4704-b712-936992bc4843",
   "metadata": {},
   "outputs": [],
   "source": [
    "device = pd.read_csv('device_category.csv')\n",
    "device"
   ]
  },
  {
   "cell_type": "markdown",
   "id": "4f01e31a-8bcd-46f4-97cc-c431e81cb926",
   "metadata": {},
   "source": [
    "Again, since I am not familiar with Google Analytics, I had to do some research in order to better understand this data. According to the [Analytics Help website](https://support.google.com/analytics/answer/12195621?hl=en) (by Google), a Session just means \"a period during which a user is engaged with your website or app.\" However, an Engaged Session is a session that meets at least one of the following criteria: \"lasts longer than 10 seconds; has a key event; has 2 or more screen or page views.\" Therefore, the Engagement Rate is \"the percentage of engaged sessions on your website or mobile app.\" So a higher percentage means more sessions of meaningful engagement and a lower percentage means less sessions of meaningful engagement. I higher engagement rate means more people are actively engaging in our content in a meaningful way, rather than passive engagement. "
   ]
  },
  {
   "cell_type": "code",
   "execution_count": null,
   "id": "42273867-eb90-4af6-9dcb-182b6f192f5d",
   "metadata": {},
   "outputs": [],
   "source": [
    "fig1, axs1 = plt.subplots(1, 2, figsize = (8, 4))\n",
    "\n",
    "axs1[0].bar(device['Device category'], device['Sessions'])\n",
    "axs1[0].set_title('Sessions by Device Category')\n",
    "axs1[0].set_xlabel('Device Category')\n",
    "axs1[0].set_ylabel('Frequency')\n",
    "\n",
    "axs1[1].bar(device['Device category'], device['Engaged sessions'])\n",
    "axs1[1].set_title('Engaged Sessions by Device Category')\n",
    "axs1[1].set_xlabel('Device Category')\n",
    "axs1[1].set_ylabel('Frequency')\n",
    "\n",
    "plt.show()"
   ]
  },
  {
   "cell_type": "markdown",
   "id": "f351b88d-2e52-4594-bc56-fe90fb5e6536",
   "metadata": {},
   "source": [
    "The device category DataFrame is honestly small enough that I personally don't really need a graph to see how each category compares across sessions, engaged sessions, and engagement rate, but I created a bar plot for the first two variables anyway. This is actually a bad graph in its current form because the y-axes are labeled/scaled differently in a way that makes it look like sessions and engaged sessions across devices are actually fairly similar, when that is not actually the case if you pay attention to the numbers themselves. I am sure there is a way to fix that so the y-axes are equal in presentation and so the bar heights would be truly representative.\n",
    "\n",
    "While this data would be useful for understanding our user behavior in general, such as what types of devices they tend to be more engaged with, that is outside the scope of my driving question for this project. Therefore, because this data does not help me identify specific content users have engaged in, it does not make sense for me to further pursue this data in my final project (and so there is no reason for me to improve this graph since it will not be shown to my audience)."
   ]
  },
  {
   "cell_type": "markdown",
   "id": "3a3ed14a-7be9-40b4-9830-abe253d23a77",
   "metadata": {},
   "source": [
    "### Traffic Acquisition"
   ]
  },
  {
   "cell_type": "markdown",
   "id": "b847fd94-4d4f-4909-9af4-45f73765a149",
   "metadata": {},
   "source": [
    "My next data file has to do with traffic acquisition, which is basically how users find and access our center's website (e.g., a search engine, a link on another website, an email campaign or signature, directly typing in the URL, etc.). Similar to the first data file, this includes Sessions, Engaged Sessions, and Engagement Rate as variables, and that data looks tidy. However, the first column \"Session source / medium\" confuses me. It looks like those should be two separate variables to me; I wonder if there is a specific reason Google Analytics put them together. \n",
    "\n",
    "According to the [Analytics Help website](https://support.google.com/analytics/answer/12923437?hl=en&co=GENIE.Platform%3DDesktop&oco=0), \"Session source\" means \"A representation of the publisher or inventory source from which traffic originated;\" \"Session medium\" means \"The method for acquiring users in a new session;\" and \"Session source / medium\" is \"The source and medium associated with a new session.\" So it seems like \"Session source / medium\" is an established metric in Google Analytics that happened to be collected in the report template I used, but personally I would think it would be tidier to have them as separate columns. "
   ]
  },
  {
   "cell_type": "code",
   "execution_count": null,
   "id": "f8245241-ea0f-4ebd-88d3-634c2a13b898",
   "metadata": {},
   "outputs": [],
   "source": [
    "traffic = pd.read_csv('traffic_acquisition.csv')\n",
    "traffic.head()"
   ]
  },
  {
   "cell_type": "code",
   "execution_count": null,
   "id": "29af800b-e7d8-4922-a194-37a0dd4db6bd",
   "metadata": {},
   "outputs": [],
   "source": [
    "traffic.shape"
   ]
  },
  {
   "cell_type": "markdown",
   "id": "3eb00493-d599-4028-bd10-06efe02407f3",
   "metadata": {},
   "source": [
    "Based on the shape of this DataFrame, it looks like there are 249 observations, which means there are 249 unique \"Session source / medium\" combinations. I don't need to create the graph to know a bar plot with 249 categories on the x-axis would not look good. I think one way to address this would be to combine the similar session sources into broader categories and display those reduced categories in one graph, or to create one graph per category so you could still see the specific session sources in each category. Again, I think that would be easier if session and medium were two separate columns. Then you could also look at just medium types or just source types. \n",
    "\n",
    "Regardless, the goal of traffic acquisition is to determine where your website's users came from before visiting your site, which could help with things like promotion and marketing and where you should consider targeting your efforts. However, this does not relate to my project's driving question because it does not provide any insight into *where* on our website our users have visited, just that they've made it to our website from different places. Since this data is not useful for my driving question, I will not be pursuing it any further for this project.  "
   ]
  },
  {
   "cell_type": "markdown",
   "id": "5942a342-a88f-4804-a083-5897404972b4",
   "metadata": {},
   "source": [
    "### Scroll Depth"
   ]
  },
  {
   "cell_type": "markdown",
   "id": "808b4a89-2d40-4f43-a477-18d350291aae",
   "metadata": {},
   "source": [
    "My next data file has to do with scroll depth, which measures how far a user has scrolled down a webpage (e.g. 50% down a page, 75% down a page, or 100% down the page). This DataFrame also seems to be already tidy; each row/observation is a unique URL, and the columns represent different variables associated with each URL. \n",
    "\n",
    "What's interesting about this DataFrame is that it includes a \"Pageviews\" metric rather than a \"Sessions\" metric. Recall that a Session means \"a period during which a user is engaged with your website or app.\" According to the [Analytics Help website](https://support.google.com/analytics/answer/1257084?hl=en#zippy=%2Cin-this-article), a pageview is \"a view of a page on your site that is being tracked by the Analytics tracking code.\" I  believe this means that a user could view an individual webpage multiple times during one session, so it makes sense that Pageviews and Sessions may be different for the same webpage/URL (as seen in the next data file, Sessions and Engagement). "
   ]
  },
  {
   "cell_type": "code",
   "execution_count": 22,
   "id": "9f4f2a8e-8ff5-455c-a053-21586031cfae",
   "metadata": {},
   "outputs": [
    {
     "data": {
      "text/html": [
       "<div>\n",
       "<style scoped>\n",
       "    .dataframe tbody tr th:only-of-type {\n",
       "        vertical-align: middle;\n",
       "    }\n",
       "\n",
       "    .dataframe tbody tr th {\n",
       "        vertical-align: top;\n",
       "    }\n",
       "\n",
       "    .dataframe thead th {\n",
       "        text-align: right;\n",
       "    }\n",
       "</style>\n",
       "<table border=\"1\" class=\"dataframe\">\n",
       "  <thead>\n",
       "    <tr style=\"text-align: right;\">\n",
       "      <th></th>\n",
       "      <th>Segment</th>\n",
       "      <th>Pageviews</th>\n",
       "      <th>50 Percent</th>\n",
       "      <th>75 Percent</th>\n",
       "      <th>100 Percent</th>\n",
       "    </tr>\n",
       "  </thead>\n",
       "  <tbody>\n",
       "    <tr>\n",
       "      <th>0</th>\n",
       "      <td>/lgbtq/common-ally-questions</td>\n",
       "      <td>14250</td>\n",
       "      <td>3726</td>\n",
       "      <td>2172</td>\n",
       "      <td>243</td>\n",
       "    </tr>\n",
       "    <tr>\n",
       "      <th>1</th>\n",
       "      <td>/lgbtq/symbols-ace-spectrum</td>\n",
       "      <td>8464</td>\n",
       "      <td>5899</td>\n",
       "      <td>3165</td>\n",
       "      <td>281</td>\n",
       "    </tr>\n",
       "    <tr>\n",
       "      <th>2</th>\n",
       "      <td>/lgbtq/pros-and-cons-being-ally</td>\n",
       "      <td>5281</td>\n",
       "      <td>3240</td>\n",
       "      <td>2116</td>\n",
       "      <td>281</td>\n",
       "    </tr>\n",
       "    <tr>\n",
       "      <th>3</th>\n",
       "      <td>/lgbtq</td>\n",
       "      <td>4625</td>\n",
       "      <td>2303</td>\n",
       "      <td>1891</td>\n",
       "      <td>693</td>\n",
       "    </tr>\n",
       "    <tr>\n",
       "      <th>4</th>\n",
       "      <td>/lgbtq/frequently-asked-questions-faq</td>\n",
       "      <td>2977</td>\n",
       "      <td>1161</td>\n",
       "      <td>786</td>\n",
       "      <td>131</td>\n",
       "    </tr>\n",
       "  </tbody>\n",
       "</table>\n",
       "</div>"
      ],
      "text/plain": [
       "                                 Segment  Pageviews  50 Percent  75 Percent  \\\n",
       "0           /lgbtq/common-ally-questions      14250        3726        2172   \n",
       "1            /lgbtq/symbols-ace-spectrum       8464        5899        3165   \n",
       "2        /lgbtq/pros-and-cons-being-ally       5281        3240        2116   \n",
       "3                                 /lgbtq       4625        2303        1891   \n",
       "4  /lgbtq/frequently-asked-questions-faq       2977        1161         786   \n",
       "\n",
       "   100 Percent  \n",
       "0          243  \n",
       "1          281  \n",
       "2          281  \n",
       "3          693  \n",
       "4          131  "
      ]
     },
     "execution_count": 22,
     "metadata": {},
     "output_type": "execute_result"
    }
   ],
   "source": [
    "scroll = pd.read_csv('scroll_depth.csv')\n",
    "scroll.head()"
   ]
  },
  {
   "cell_type": "code",
   "execution_count": 23,
   "id": "82c48025-bf7e-415b-804c-5ad49d44d347",
   "metadata": {},
   "outputs": [
    {
     "data": {
      "text/plain": [
       "(163, 5)"
      ]
     },
     "execution_count": 23,
     "metadata": {},
     "output_type": "execute_result"
    }
   ],
   "source": [
    "scroll.shape"
   ]
  },
  {
   "cell_type": "code",
   "execution_count": null,
   "id": "a5d1c3e5-3c41-45f1-9578-cd9ad2bb3a39",
   "metadata": {},
   "outputs": [],
   "source": [
    "sns.barplot(scroll, x = 'Segment', y = 'Pageviews')\n",
    "plt.show()"
   ]
  },
  {
   "cell_type": "markdown",
   "id": "36258498-dab3-409e-98af-c7b79bcffcfe",
   "metadata": {},
   "source": [
    "Obviously the graph above is bad and ugly. 163 is way too many rows to plot on one barplot, but it is clear that most of these URLS do not have very many pageviews. I think it would make sense to cut off every URL that has less than 2000 pageviews and see how our graph looks after that change."
   ]
  },
  {
   "cell_type": "code",
   "execution_count": null,
   "id": "49800918-e0c5-47cd-9bcb-b17d51c336ed",
   "metadata": {},
   "outputs": [],
   "source": [
    "sns.barplot(scroll[scroll['Pageviews'] > 2000], x = 'Segment', y = 'Pageviews')\n",
    "plt.show()"
   ]
  },
  {
   "cell_type": "markdown",
   "id": "576e717d-94a0-45a3-b019-4a74bb75b8af",
   "metadata": {},
   "source": [
    "While this does look better (though the labels would need cleaned up), now this only leaves me with 6 URLs, so let's try every URL above 1000 rather than 2000 pageviews. "
   ]
  },
  {
   "cell_type": "code",
   "execution_count": null,
   "id": "7a3f1901-7aa7-4d07-bfea-a9c0d8d45993",
   "metadata": {},
   "outputs": [],
   "source": [
    "sns.barplot(scroll[scroll['Pageviews'] > 1000], x = 'Segment', y = 'Pageviews')\n",
    "plt.show()"
   ]
  },
  {
   "cell_type": "markdown",
   "id": "db93d8f0-6d9a-4400-9a89-9de7bf482461",
   "metadata": {},
   "source": [
    "And that gives me 8 URLs. Let's try 600 just to see what that gives me."
   ]
  },
  {
   "cell_type": "code",
   "execution_count": null,
   "id": "9ba7c71d-6dad-4d35-b918-e5fd9067c8cd",
   "metadata": {},
   "outputs": [],
   "source": [
    "sns.barplot(scroll[scroll['Pageviews'] > 600], x = 'Segment', y = 'Pageviews')\n",
    "plt.show()"
   ]
  },
  {
   "cell_type": "markdown",
   "id": "dadedd6b-6c84-457a-90d1-b9d7c39b8a98",
   "metadata": {},
   "source": [
    "And this gives me 14 URLs. I definitely would not want any more rows than this, especially since it is looks like around 600 is where pageviews start to plateau, so anything under 600 pageviews is not being utilized as much and so is not really worth my consideration. Obviously if I were to move forward with this graph the x-axis labels need dealth with, but right now I am not going to worry about it. \n",
    "\n",
    "But do I want to consider the number of pageviews alone? Should I instead consider the URLs by how many of their pageviews had 100% scroll depth (meaning those are the number of pageviews where users scrolled through the entire page rather than only part of the page)? "
   ]
  },
  {
   "cell_type": "code",
   "execution_count": null,
   "id": "e35f0048-3329-4f51-a047-54b7865bf631",
   "metadata": {},
   "outputs": [],
   "source": [
    "sns.barplot(scroll, x = 'Segment', y = '100 Percent')\n",
    "plt.show()"
   ]
  },
  {
   "cell_type": "markdown",
   "id": "3457e87b-1c44-40e2-96dd-718ec7dc74c0",
   "metadata": {},
   "source": [
    "It doesn't look like there are that many URLs with pageviews of 100 Percent scroll depth over 100, but I want to see what that looks like filtered out."
   ]
  },
  {
   "cell_type": "code",
   "execution_count": null,
   "id": "0600cbd2-0c30-4394-b59b-103e4750ad24",
   "metadata": {},
   "outputs": [],
   "source": [
    "sns.barplot(scroll[scroll['100 Percent'] > 100], x = 'Segment', y = '100 Percent')\n",
    "plt.show()"
   ]
  },
  {
   "cell_type": "markdown",
   "id": "6a00c386-9eb2-4f6c-9194-538da539cc49",
   "metadata": {},
   "source": [
    "And there's only 5 URLs with 100 or more pageviews at 100 Percent scroll depth. Let's try 50."
   ]
  },
  {
   "cell_type": "code",
   "execution_count": null,
   "id": "04a67565-9eda-4756-96d3-6250f48acfeb",
   "metadata": {},
   "outputs": [],
   "source": [
    "sns.barplot(scroll[scroll['100 Percent'] > 50], x = 'Segment', y = '100 Percent')\n",
    "plt.show()"
   ]
  },
  {
   "cell_type": "markdown",
   "id": "d99893b5-fae1-4348-b19b-3c9398f18426",
   "metadata": {},
   "source": [
    "And that gives me 13 URLs. I wonder how many of those URLs match the URLs from the initial pageviews graph. "
   ]
  },
  {
   "cell_type": "code",
   "execution_count": 24,
   "id": "1db083da-c083-467d-b31f-08027f5b045e",
   "metadata": {},
   "outputs": [
    {
     "data": {
      "text/html": [
       "<div>\n",
       "<style scoped>\n",
       "    .dataframe tbody tr th:only-of-type {\n",
       "        vertical-align: middle;\n",
       "    }\n",
       "\n",
       "    .dataframe tbody tr th {\n",
       "        vertical-align: top;\n",
       "    }\n",
       "\n",
       "    .dataframe thead th {\n",
       "        text-align: right;\n",
       "    }\n",
       "</style>\n",
       "<table border=\"1\" class=\"dataframe\">\n",
       "  <thead>\n",
       "    <tr style=\"text-align: right;\">\n",
       "      <th></th>\n",
       "      <th>Segment</th>\n",
       "      <th>Pageviews</th>\n",
       "      <th>50 Percent</th>\n",
       "      <th>75 Percent</th>\n",
       "      <th>100 Percent</th>\n",
       "    </tr>\n",
       "  </thead>\n",
       "  <tbody>\n",
       "    <tr>\n",
       "      <th>0</th>\n",
       "      <td>/lgbtq/common-ally-questions</td>\n",
       "      <td>14250</td>\n",
       "      <td>3726</td>\n",
       "      <td>2172</td>\n",
       "      <td>243</td>\n",
       "    </tr>\n",
       "    <tr>\n",
       "      <th>1</th>\n",
       "      <td>/lgbtq/symbols-ace-spectrum</td>\n",
       "      <td>8464</td>\n",
       "      <td>5899</td>\n",
       "      <td>3165</td>\n",
       "      <td>281</td>\n",
       "    </tr>\n",
       "    <tr>\n",
       "      <th>2</th>\n",
       "      <td>/lgbtq/pros-and-cons-being-ally</td>\n",
       "      <td>5281</td>\n",
       "      <td>3240</td>\n",
       "      <td>2116</td>\n",
       "      <td>281</td>\n",
       "    </tr>\n",
       "    <tr>\n",
       "      <th>3</th>\n",
       "      <td>/lgbtq</td>\n",
       "      <td>4625</td>\n",
       "      <td>2303</td>\n",
       "      <td>1891</td>\n",
       "      <td>693</td>\n",
       "    </tr>\n",
       "    <tr>\n",
       "      <th>4</th>\n",
       "      <td>/lgbtq/frequently-asked-questions-faq</td>\n",
       "      <td>2977</td>\n",
       "      <td>1161</td>\n",
       "      <td>786</td>\n",
       "      <td>131</td>\n",
       "    </tr>\n",
       "    <tr>\n",
       "      <th>5</th>\n",
       "      <td>/lgbtq/terminology-list</td>\n",
       "      <td>3202</td>\n",
       "      <td>487</td>\n",
       "      <td>300</td>\n",
       "      <td>19</td>\n",
       "    </tr>\n",
       "    <tr>\n",
       "      <th>6</th>\n",
       "      <td>/lgbtq/upcoming-events</td>\n",
       "      <td>1292</td>\n",
       "      <td>974</td>\n",
       "      <td>637</td>\n",
       "      <td>56</td>\n",
       "    </tr>\n",
       "    <tr>\n",
       "      <th>7</th>\n",
       "      <td>/housing/lgbtq-living-learning-community</td>\n",
       "      <td>1198</td>\n",
       "      <td>992</td>\n",
       "      <td>412</td>\n",
       "      <td>56</td>\n",
       "    </tr>\n",
       "    <tr>\n",
       "      <th>8</th>\n",
       "      <td>/lgbtq/lgbtq-community-resources</td>\n",
       "      <td>712</td>\n",
       "      <td>599</td>\n",
       "      <td>318</td>\n",
       "      <td>94</td>\n",
       "    </tr>\n",
       "    <tr>\n",
       "      <th>9</th>\n",
       "      <td>/lgbtq/ohio-legal-name-change-process</td>\n",
       "      <td>880</td>\n",
       "      <td>412</td>\n",
       "      <td>281</td>\n",
       "      <td>37</td>\n",
       "    </tr>\n",
       "    <tr>\n",
       "      <th>10</th>\n",
       "      <td>/lgbtq/other-ace-identities</td>\n",
       "      <td>674</td>\n",
       "      <td>618</td>\n",
       "      <td>225</td>\n",
       "      <td>37</td>\n",
       "    </tr>\n",
       "    <tr>\n",
       "      <th>11</th>\n",
       "      <td>/lgbtq/trans-ksu</td>\n",
       "      <td>824</td>\n",
       "      <td>393</td>\n",
       "      <td>281</td>\n",
       "      <td>19</td>\n",
       "    </tr>\n",
       "    <tr>\n",
       "      <th>13</th>\n",
       "      <td>/lgbtq/safe-space-and-other-trainings</td>\n",
       "      <td>693</td>\n",
       "      <td>412</td>\n",
       "      <td>262</td>\n",
       "      <td>19</td>\n",
       "    </tr>\n",
       "    <tr>\n",
       "      <th>14</th>\n",
       "      <td>/lgbtq/quest-mentorship-program</td>\n",
       "      <td>618</td>\n",
       "      <td>468</td>\n",
       "      <td>225</td>\n",
       "      <td>37</td>\n",
       "    </tr>\n",
       "  </tbody>\n",
       "</table>\n",
       "</div>"
      ],
      "text/plain": [
       "                                     Segment  Pageviews  50 Percent  \\\n",
       "0               /lgbtq/common-ally-questions      14250        3726   \n",
       "1                /lgbtq/symbols-ace-spectrum       8464        5899   \n",
       "2            /lgbtq/pros-and-cons-being-ally       5281        3240   \n",
       "3                                     /lgbtq       4625        2303   \n",
       "4      /lgbtq/frequently-asked-questions-faq       2977        1161   \n",
       "5                    /lgbtq/terminology-list       3202         487   \n",
       "6                     /lgbtq/upcoming-events       1292         974   \n",
       "7   /housing/lgbtq-living-learning-community       1198         992   \n",
       "8           /lgbtq/lgbtq-community-resources        712         599   \n",
       "9      /lgbtq/ohio-legal-name-change-process        880         412   \n",
       "10               /lgbtq/other-ace-identities        674         618   \n",
       "11                          /lgbtq/trans-ksu        824         393   \n",
       "13     /lgbtq/safe-space-and-other-trainings        693         412   \n",
       "14           /lgbtq/quest-mentorship-program        618         468   \n",
       "\n",
       "    75 Percent  100 Percent  \n",
       "0         2172          243  \n",
       "1         3165          281  \n",
       "2         2116          281  \n",
       "3         1891          693  \n",
       "4          786          131  \n",
       "5          300           19  \n",
       "6          637           56  \n",
       "7          412           56  \n",
       "8          318           94  \n",
       "9          281           37  \n",
       "10         225           37  \n",
       "11         281           19  \n",
       "13         262           19  \n",
       "14         225           37  "
      ]
     },
     "execution_count": 24,
     "metadata": {},
     "output_type": "execute_result"
    }
   ],
   "source": [
    "filtered_pageviews = scroll[scroll['Pageviews'] > 600]\n",
    "filtered_pageviews"
   ]
  },
  {
   "cell_type": "code",
   "execution_count": 25,
   "id": "f4646e75-76d0-4674-947a-41353d9d53b1",
   "metadata": {},
   "outputs": [
    {
     "data": {
      "text/html": [
       "<div>\n",
       "<style scoped>\n",
       "    .dataframe tbody tr th:only-of-type {\n",
       "        vertical-align: middle;\n",
       "    }\n",
       "\n",
       "    .dataframe tbody tr th {\n",
       "        vertical-align: top;\n",
       "    }\n",
       "\n",
       "    .dataframe thead th {\n",
       "        text-align: right;\n",
       "    }\n",
       "</style>\n",
       "<table border=\"1\" class=\"dataframe\">\n",
       "  <thead>\n",
       "    <tr style=\"text-align: right;\">\n",
       "      <th></th>\n",
       "      <th>Segment</th>\n",
       "      <th>Pageviews</th>\n",
       "      <th>50 Percent</th>\n",
       "      <th>75 Percent</th>\n",
       "      <th>100 Percent</th>\n",
       "    </tr>\n",
       "  </thead>\n",
       "  <tbody>\n",
       "    <tr>\n",
       "      <th>0</th>\n",
       "      <td>/lgbtq/common-ally-questions</td>\n",
       "      <td>14250</td>\n",
       "      <td>3726</td>\n",
       "      <td>2172</td>\n",
       "      <td>243</td>\n",
       "    </tr>\n",
       "    <tr>\n",
       "      <th>1</th>\n",
       "      <td>/lgbtq/symbols-ace-spectrum</td>\n",
       "      <td>8464</td>\n",
       "      <td>5899</td>\n",
       "      <td>3165</td>\n",
       "      <td>281</td>\n",
       "    </tr>\n",
       "    <tr>\n",
       "      <th>2</th>\n",
       "      <td>/lgbtq/pros-and-cons-being-ally</td>\n",
       "      <td>5281</td>\n",
       "      <td>3240</td>\n",
       "      <td>2116</td>\n",
       "      <td>281</td>\n",
       "    </tr>\n",
       "    <tr>\n",
       "      <th>3</th>\n",
       "      <td>/lgbtq</td>\n",
       "      <td>4625</td>\n",
       "      <td>2303</td>\n",
       "      <td>1891</td>\n",
       "      <td>693</td>\n",
       "    </tr>\n",
       "    <tr>\n",
       "      <th>4</th>\n",
       "      <td>/lgbtq/frequently-asked-questions-faq</td>\n",
       "      <td>2977</td>\n",
       "      <td>1161</td>\n",
       "      <td>786</td>\n",
       "      <td>131</td>\n",
       "    </tr>\n",
       "    <tr>\n",
       "      <th>6</th>\n",
       "      <td>/lgbtq/upcoming-events</td>\n",
       "      <td>1292</td>\n",
       "      <td>974</td>\n",
       "      <td>637</td>\n",
       "      <td>56</td>\n",
       "    </tr>\n",
       "    <tr>\n",
       "      <th>7</th>\n",
       "      <td>/housing/lgbtq-living-learning-community</td>\n",
       "      <td>1198</td>\n",
       "      <td>992</td>\n",
       "      <td>412</td>\n",
       "      <td>56</td>\n",
       "    </tr>\n",
       "    <tr>\n",
       "      <th>8</th>\n",
       "      <td>/lgbtq/lgbtq-community-resources</td>\n",
       "      <td>712</td>\n",
       "      <td>599</td>\n",
       "      <td>318</td>\n",
       "      <td>94</td>\n",
       "    </tr>\n",
       "    <tr>\n",
       "      <th>12</th>\n",
       "      <td>/lgbtq/center-staff</td>\n",
       "      <td>580</td>\n",
       "      <td>449</td>\n",
       "      <td>356</td>\n",
       "      <td>56</td>\n",
       "    </tr>\n",
       "    <tr>\n",
       "      <th>16</th>\n",
       "      <td>/lgbtq/transgender-resource-guide</td>\n",
       "      <td>487</td>\n",
       "      <td>449</td>\n",
       "      <td>300</td>\n",
       "      <td>75</td>\n",
       "    </tr>\n",
       "    <tr>\n",
       "      <th>23</th>\n",
       "      <td>/lgbtq/lgbtq-assistance-and-resources</td>\n",
       "      <td>375</td>\n",
       "      <td>318</td>\n",
       "      <td>187</td>\n",
       "      <td>94</td>\n",
       "    </tr>\n",
       "    <tr>\n",
       "      <th>26</th>\n",
       "      <td>/lgbtq/discover-lgbtq-kent-state</td>\n",
       "      <td>337</td>\n",
       "      <td>318</td>\n",
       "      <td>150</td>\n",
       "      <td>75</td>\n",
       "    </tr>\n",
       "    <tr>\n",
       "      <th>30</th>\n",
       "      <td>/lgbtq-studies</td>\n",
       "      <td>187</td>\n",
       "      <td>150</td>\n",
       "      <td>131</td>\n",
       "      <td>56</td>\n",
       "    </tr>\n",
       "  </tbody>\n",
       "</table>\n",
       "</div>"
      ],
      "text/plain": [
       "                                     Segment  Pageviews  50 Percent  \\\n",
       "0               /lgbtq/common-ally-questions      14250        3726   \n",
       "1                /lgbtq/symbols-ace-spectrum       8464        5899   \n",
       "2            /lgbtq/pros-and-cons-being-ally       5281        3240   \n",
       "3                                     /lgbtq       4625        2303   \n",
       "4      /lgbtq/frequently-asked-questions-faq       2977        1161   \n",
       "6                     /lgbtq/upcoming-events       1292         974   \n",
       "7   /housing/lgbtq-living-learning-community       1198         992   \n",
       "8           /lgbtq/lgbtq-community-resources        712         599   \n",
       "12                       /lgbtq/center-staff        580         449   \n",
       "16         /lgbtq/transgender-resource-guide        487         449   \n",
       "23     /lgbtq/lgbtq-assistance-and-resources        375         318   \n",
       "26          /lgbtq/discover-lgbtq-kent-state        337         318   \n",
       "30                            /lgbtq-studies        187         150   \n",
       "\n",
       "    75 Percent  100 Percent  \n",
       "0         2172          243  \n",
       "1         3165          281  \n",
       "2         2116          281  \n",
       "3         1891          693  \n",
       "4          786          131  \n",
       "6          637           56  \n",
       "7          412           56  \n",
       "8          318           94  \n",
       "12         356           56  \n",
       "16         300           75  \n",
       "23         187           94  \n",
       "26         150           75  \n",
       "30         131           56  "
      ]
     },
     "execution_count": 25,
     "metadata": {},
     "output_type": "execute_result"
    }
   ],
   "source": [
    "filtered_percent = scroll[scroll['100 Percent'] > 50]\n",
    "filtered_percent"
   ]
  },
  {
   "cell_type": "markdown",
   "id": "9527cc50-6ead-43ce-b15a-097860af5944",
   "metadata": {},
   "source": [
    "Well, rows 0-4 and 6-8 appear in both lists, so that gives me 8 URLs that each have some of the most pageviews overall and the most pageviews that had 100% scroll depth. Perhaps those are potential contenders for those pages' contents being preserved, but to be clear I am not making any conclusions at this point. I also would need to do some additional experimentation to figure out the best way to visualize this data if I choose to move forward with this story. \n",
    "\n",
    "At this point, I also want to mention that when it is time to start making some conclusions and determining what my reccommendations will be, I can't only look at the numbers themselves. I have to also understand what the content is of an individual page in order to determine if it is something that should be preserved in the context of the larger situation. \n",
    "\n",
    "For example, row 6 contains the URL \"/lgbtq/upcoming-events\" which is our Upcoming Events page (lists our center's events during the current semester). This URL has over 1000 total pageviews and 56 of those pageviews have a 100% scroll depth. The numbers by themselves may indicate that this page is engaged with more frequently by users and so should be considered for preservation. However, the greater context is that these reccommendations are being made in the event our center closes and our website shuts down. If our center were to close, there would be no more upcoming events, and so it does not make sense to preserve that page's content and migrate it to a different website because the content would be outdated/irrelevant.    \n",
    "\n",
    "Therefore, for each URL that has the potential to be reccommended for preservation based on the data, I need to consider what the actual content of that webpage is and if it even makes sense to preserve and migrate it somewhere else given the context of our center being closed. \n",
    "\n",
    "It is also important for me to take a closer look at these webpages because I have noticed that some of them actually are not from our center's website. For example, row 7 is the URL \"/housing/lgbtq-living-learning-community\" and appears in both lists. However, that is a webpage on the university housing website, not the LGBTQ+ Center's website. I think filtering \"/lgbtq\" in the Google Analytics report template included every URL with /lgbtq anywhere in the URL, not just after the kent.edu part of the URL (e.g., only URLs with \"kent.edu/lgbtq\"). So that means I also need to be aware if a potential reccommendation is even a page on our website. \n",
    "\n",
    "Overall, right now I think this data file was some potential and contains information that is relevant to helping answer my driving question, but before I make any final decisions on how to move forward, I want to finish exploring my last two data files first. "
   ]
  },
  {
   "cell_type": "markdown",
   "id": "07741dea-d38d-42b4-aa21-7b00c115ea11",
   "metadata": {},
   "source": [
    "### Sessions and Engagement"
   ]
  },
  {
   "cell_type": "markdown",
   "id": "69d5c231-7344-4bde-98f5-23e695093571",
   "metadata": {},
   "source": [
    "This next data file also contains unique URLs as the observational unit but this time the variables relate to sessions and engagement, similar to the first data file. Right away I am definitely interested in this particular data file because this was the one out of the five that I initially guessed would be the most relevant for my driving question since it literally has to do with how users are engaging on each page of our website. \n",
    "\n",
    "This data file also includes an \"Average session duration\" variable, which I believe is an average length of time for each session that involved the unique URL. I don't think this variable would be particularly helpful because having a long average session time does not tell me if the users were actually engaged with the content in a meaningful way during that time. A lot of people will visit a website and then become distracted, especially if they have multiple tabs open, so I don't think this metric will really help me figure out what URLs are most valuable to my users the way I suspect the other metrics can. Therefore I think looking at the \"Engaged sessions\" and \"Engagement rate\" metrics will be the most useful for my driving question. "
   ]
  },
  {
   "cell_type": "code",
   "execution_count": 26,
   "id": "8decccf2-9886-4eef-9f8c-7b57b45be4aa",
   "metadata": {},
   "outputs": [
    {
     "data": {
      "text/html": [
       "<div>\n",
       "<style scoped>\n",
       "    .dataframe tbody tr th:only-of-type {\n",
       "        vertical-align: middle;\n",
       "    }\n",
       "\n",
       "    .dataframe tbody tr th {\n",
       "        vertical-align: top;\n",
       "    }\n",
       "\n",
       "    .dataframe thead th {\n",
       "        text-align: right;\n",
       "    }\n",
       "</style>\n",
       "<table border=\"1\" class=\"dataframe\">\n",
       "  <thead>\n",
       "    <tr style=\"text-align: right;\">\n",
       "      <th></th>\n",
       "      <th>Page path and screen class</th>\n",
       "      <th>Sessions</th>\n",
       "      <th>Engaged sessions</th>\n",
       "      <th>Engagement rate</th>\n",
       "      <th>Average session duration</th>\n",
       "    </tr>\n",
       "  </thead>\n",
       "  <tbody>\n",
       "    <tr>\n",
       "      <th>0</th>\n",
       "      <td>/lgbtq/common-ally-questions</td>\n",
       "      <td>14036</td>\n",
       "      <td>7999</td>\n",
       "      <td>0.569892</td>\n",
       "      <td>127.438253</td>\n",
       "    </tr>\n",
       "    <tr>\n",
       "      <th>1</th>\n",
       "      <td>/lgbtq/symbols-ace-spectrum</td>\n",
       "      <td>8480</td>\n",
       "      <td>5585</td>\n",
       "      <td>0.658608</td>\n",
       "      <td>62.766498</td>\n",
       "    </tr>\n",
       "    <tr>\n",
       "      <th>2</th>\n",
       "      <td>/lgbtq/pros-and-cons-being-ally</td>\n",
       "      <td>5093</td>\n",
       "      <td>3281</td>\n",
       "      <td>0.644218</td>\n",
       "      <td>138.905469</td>\n",
       "    </tr>\n",
       "    <tr>\n",
       "      <th>3</th>\n",
       "      <td>/lgbtq</td>\n",
       "      <td>4441</td>\n",
       "      <td>3687</td>\n",
       "      <td>0.830218</td>\n",
       "      <td>151.891271</td>\n",
       "    </tr>\n",
       "    <tr>\n",
       "      <th>4</th>\n",
       "      <td>/lgbtq/terminology-list</td>\n",
       "      <td>3359</td>\n",
       "      <td>2422</td>\n",
       "      <td>0.721048</td>\n",
       "      <td>104.620323</td>\n",
       "    </tr>\n",
       "  </tbody>\n",
       "</table>\n",
       "</div>"
      ],
      "text/plain": [
       "        Page path and screen class  Sessions  Engaged sessions  \\\n",
       "0     /lgbtq/common-ally-questions     14036              7999   \n",
       "1      /lgbtq/symbols-ace-spectrum      8480              5585   \n",
       "2  /lgbtq/pros-and-cons-being-ally      5093              3281   \n",
       "3                           /lgbtq      4441              3687   \n",
       "4          /lgbtq/terminology-list      3359              2422   \n",
       "\n",
       "   Engagement rate  Average session duration  \n",
       "0         0.569892                127.438253  \n",
       "1         0.658608                 62.766498  \n",
       "2         0.644218                138.905469  \n",
       "3         0.830218                151.891271  \n",
       "4         0.721048                104.620323  "
      ]
     },
     "execution_count": 26,
     "metadata": {},
     "output_type": "execute_result"
    }
   ],
   "source": [
    "se = pd.read_csv('sessions_and_engagement.csv')\n",
    "se.head()"
   ]
  },
  {
   "cell_type": "code",
   "execution_count": 27,
   "id": "b5dd964f-0fcf-47d9-ba19-f84d7fcf7170",
   "metadata": {},
   "outputs": [
    {
     "data": {
      "text/plain": [
       "(359, 5)"
      ]
     },
     "execution_count": 27,
     "metadata": {},
     "output_type": "execute_result"
    }
   ],
   "source": [
    "se.shape"
   ]
  },
  {
   "cell_type": "markdown",
   "id": "d9964242-c14b-46a6-9b6d-cfd0ec1c1097",
   "metadata": {},
   "source": [
    "Looking at the shape of this DataFrame, it has 359 rows, which means 359 unique URLs. This is interesting because the scroll depth DataFrame only had 163 rows of unique URLs. I don't know why that would be, but I am going to guess that the URLs with the highest number of engaged sessions are going to be similar to those with the most pageviews. So I am not super worried about it because I am going to guess I would be dropping most if not all of those extra rows anyway, but I am curious why that discrepancy exists."
   ]
  },
  {
   "cell_type": "code",
   "execution_count": null,
   "id": "e476bfff-26e2-4199-92bb-c81fc72daf65",
   "metadata": {},
   "outputs": [],
   "source": [
    "sns.barplot(se, x = 'Page path and screen class', y = 'Engaged sessions')\n",
    "plt.show()"
   ]
  },
  {
   "cell_type": "markdown",
   "id": "3d2d6df8-71cc-4798-b643-f7764774fe13",
   "metadata": {},
   "source": [
    "Yeah it looks like most of these URLs are not going to make the cut anyway. Let's see what I get for every URL above 500 engaged sessions."
   ]
  },
  {
   "cell_type": "code",
   "execution_count": null,
   "id": "49c31da6-7d96-4259-8b00-a8159aae0e61",
   "metadata": {},
   "outputs": [],
   "source": [
    "sns.barplot(se[se['Engaged sessions'] > 500], x = 'Page path and screen class', y = 'Engaged sessions')\n",
    "plt.show()"
   ]
  },
  {
   "cell_type": "markdown",
   "id": "3da2c2b8-6bb6-48d3-b981-433d686a5930",
   "metadata": {},
   "source": [
    "And I get 14 URLs. It looks like around 500 engaged sessions is also where they start to plataeu, so I definitely don't want to include more than this. I also want to look at \"Engagement rate\" because that metric will give me an idea of the percentage of users being engaged versus how many users altogether are visiting each URL. For example, a webapge might have a high number of engaged sessions, but if the engagement rate is low, that means overall the users visiting that page are not meaningfully engaging in that page's content. So I don't want to only consider the number of engaged sessions per URL. "
   ]
  },
  {
   "cell_type": "code",
   "execution_count": null,
   "id": "273f1ad8-52dc-4243-8e11-8a5e6976089c",
   "metadata": {},
   "outputs": [],
   "source": [
    "sns.barplot(se, x = 'Page path and screen class', y = 'Engagement rate')\n",
    "plt.show()"
   ]
  },
  {
   "cell_type": "markdown",
   "id": "dfdecfba-bcad-4adf-8dba-4a34b719ded9",
   "metadata": {},
   "source": [
    "Yikes. This graph is all over the place. Let's try URLs with engagement rates above 0.8 and see what that does."
   ]
  },
  {
   "cell_type": "code",
   "execution_count": null,
   "id": "cb63c142-0d8e-4b92-8d61-c014f47a9402",
   "metadata": {},
   "outputs": [],
   "source": [
    "sns.barplot(se[se['Engagement rate'] > 0.8], x = 'Page path and screen class', y = 'Engagement rate')\n",
    "plt.show()"
   ]
  },
  {
   "cell_type": "markdown",
   "id": "5e5f49ca-89f4-4675-b638-e15f57db1b83",
   "metadata": {},
   "source": [
    "Hmm. That doesn't look right. Or at least that is not what I was expecting to see. Let's investigate."
   ]
  },
  {
   "cell_type": "code",
   "execution_count": null,
   "id": "bcdc17f5-cba7-4f29-a308-5b373c2e4aff",
   "metadata": {},
   "outputs": [],
   "source": [
    "enr = se[se['Engagement rate'] > 0.8]\n",
    "enr"
   ]
  },
  {
   "cell_type": "markdown",
   "id": "8c76bf57-58c8-4985-b811-636050529f57",
   "metadata": {},
   "source": [
    "Ah. So there seem to be some URLs that have literally 1 engaged session, giving them a 1.0 engagement rate. It has occurred to me that this might be an issue where URLs with high engagement rates may be due to having such low sessions and/or engaged sessions to begin with. Maybe I should try looking at engagement rates for only the 14 URLs that have the highest engaged sessions.  "
   ]
  },
  {
   "cell_type": "code",
   "execution_count": 8,
   "id": "b9463a9f-b2f7-46cc-8e6b-830eb1331fdf",
   "metadata": {},
   "outputs": [],
   "source": [
    "filtered_se = se[se['Engaged sessions'] > 500]"
   ]
  },
  {
   "cell_type": "code",
   "execution_count": null,
   "id": "89a2f706-bdf1-4a3d-95eb-b2287a95f941",
   "metadata": {},
   "outputs": [],
   "source": [
    "sns.barplot(filtered_se, x = 'Page path and screen class', y = 'Engagement rate')\n",
    "plt.show()"
   ]
  },
  {
   "cell_type": "markdown",
   "id": "b035f953-b81f-4638-a8f1-abeba83b38af",
   "metadata": {},
   "source": [
    "It looks like all 14 of these URLs have engagement rates above 0.5 (which I confirmed with the graph below that resulted in the exact same image), so that tells me each of these URLs are engaged with enough to still be potential candidates, and from here I could compare those with higher or lower engagement rates to narrow down reccommendations from here, though again I am not going to start making those conclusions at this point."
   ]
  },
  {
   "cell_type": "code",
   "execution_count": null,
   "id": "ae91d8d7-a998-40b8-9df8-5937a41aca92",
   "metadata": {},
   "outputs": [],
   "source": [
    "sns.barplot(filtered_se[filtered_se['Engagement rate'] > 0.5], x = 'Page path and screen class', y = 'Engagement rate')\n",
    "plt.show()"
   ]
  },
  {
   "cell_type": "markdown",
   "id": "b88735e8-4ebc-427d-9df4-e4e5343a0c7e",
   "metadata": {},
   "source": [
    "Also I do recognize that these graphs are clearly not presentation ready, but again that is not a huge concern at this time. Before I make any final statements for this milestone, I have one more data file to explore."
   ]
  },
  {
   "cell_type": "markdown",
   "id": "9718b69b-32e8-4a85-9474-4e11f266bc55",
   "metadata": {},
   "source": [
    "### Menu Link Usage"
   ]
  },
  {
   "cell_type": "markdown",
   "id": "6218b396-08c9-475e-922d-23b8ed85a838",
   "metadata": {},
   "source": [
    "The fifth and final data file I have involves menu link usage, which has to do with how the menu items/links in our website's navigation menus (header and footer menus) were used (e.g., how many times each link was clicked). This is the data file the Executive Director of Digital Communications sent to me directly from a site external from Google Analytics. Fortunately, this DataFrame also already appears tidy; each row/observation is a different link in one of our navigation menus (representated as an event), and the variables are different aspects/metrics of each link. "
   ]
  },
  {
   "cell_type": "code",
   "execution_count": 29,
   "id": "71a12c0a-4406-4eab-bb9a-7d5835aab0a5",
   "metadata": {},
   "outputs": [
    {
     "data": {
      "text/html": [
       "<div>\n",
       "<style scoped>\n",
       "    .dataframe tbody tr th:only-of-type {\n",
       "        vertical-align: middle;\n",
       "    }\n",
       "\n",
       "    .dataframe tbody tr th {\n",
       "        vertical-align: top;\n",
       "    }\n",
       "\n",
       "    .dataframe thead th {\n",
       "        text-align: right;\n",
       "    }\n",
       "</style>\n",
       "<table border=\"1\" class=\"dataframe\">\n",
       "  <thead>\n",
       "    <tr style=\"text-align: right;\">\n",
       "      <th></th>\n",
       "      <th>Event name</th>\n",
       "      <th>Event Description</th>\n",
       "      <th>Click Text</th>\n",
       "      <th>Event count</th>\n",
       "    </tr>\n",
       "  </thead>\n",
       "  <tbody>\n",
       "    <tr>\n",
       "      <th>0</th>\n",
       "      <td>navigation</td>\n",
       "      <td>Megamenu Links</td>\n",
       "      <td>Center Staff</td>\n",
       "      <td>225</td>\n",
       "    </tr>\n",
       "    <tr>\n",
       "      <th>1</th>\n",
       "      <td>navigation</td>\n",
       "      <td>Megamenu Links</td>\n",
       "      <td>About Us</td>\n",
       "      <td>206</td>\n",
       "    </tr>\n",
       "    <tr>\n",
       "      <th>2</th>\n",
       "      <td>navigation</td>\n",
       "      <td>Megamenu Links</td>\n",
       "      <td>Events and Programs</td>\n",
       "      <td>150</td>\n",
       "    </tr>\n",
       "    <tr>\n",
       "      <th>3</th>\n",
       "      <td>navigation</td>\n",
       "      <td>Megamenu Links</td>\n",
       "      <td>Student Resources</td>\n",
       "      <td>94</td>\n",
       "    </tr>\n",
       "    <tr>\n",
       "      <th>4</th>\n",
       "      <td>navigation</td>\n",
       "      <td>Megamenu Links</td>\n",
       "      <td>Contact Us</td>\n",
       "      <td>75</td>\n",
       "    </tr>\n",
       "  </tbody>\n",
       "</table>\n",
       "</div>"
      ],
      "text/plain": [
       "   Event name Event Description           Click Text  Event count\n",
       "0  navigation    Megamenu Links         Center Staff          225\n",
       "1  navigation    Megamenu Links             About Us          206\n",
       "2  navigation    Megamenu Links  Events and Programs          150\n",
       "3  navigation    Megamenu Links    Student Resources           94\n",
       "4  navigation    Megamenu Links           Contact Us           75"
      ]
     },
     "execution_count": 29,
     "metadata": {},
     "output_type": "execute_result"
    }
   ],
   "source": [
    "menu = pd.read_csv('menu_link_usage.csv')\n",
    "menu.head()"
   ]
  },
  {
   "cell_type": "code",
   "execution_count": 30,
   "id": "30bd3db4-d879-4b3c-a702-9a0001043a45",
   "metadata": {},
   "outputs": [
    {
     "data": {
      "text/plain": [
       "(30, 4)"
      ]
     },
     "execution_count": 30,
     "metadata": {},
     "output_type": "execute_result"
    }
   ],
   "source": [
    "menu.shape"
   ]
  },
  {
   "cell_type": "code",
   "execution_count": null,
   "id": "d51ec326-28ca-412f-b4b7-ce36ff0ac621",
   "metadata": {},
   "outputs": [],
   "source": [
    "sns.barplot(menu, x = 'Click Text', y = 'Event count')\n",
    "plt.show()"
   ]
  },
  {
   "cell_type": "markdown",
   "id": "71eb8c91-d786-4980-86a7-09220245e615",
   "metadata": {},
   "source": [
    "This graph definitely is not as initially horrible as some of the previous ones, though again the labels on the x-axis need dealt with, and I would want to change the x-axis title to \"Menu Link Title\" or something similar because \"Click Text\" is not super clear. "
   ]
  },
  {
   "cell_type": "code",
   "execution_count": null,
   "id": "40e42ca7-a90d-4aab-8a98-d225df72363d",
   "metadata": {},
   "outputs": [],
   "source": [
    "sns.barplot(menu[menu['Event count'] > 50], x = 'Click Text', y = 'Event count')\n",
    "plt.show()"
   ]
  },
  {
   "cell_type": "markdown",
   "id": "512b91c6-d0a7-470b-883a-1969c0045b9f",
   "metadata": {},
   "source": [
    "And there are 9 menu links that had more than 50 clicks over the one year timeframe, so I think it would make sense to consider those as having more potential than the rest of the menu links that have less than 50 clicks. However, I do not believe this data file would be the most relevant for my driving question becuase it just shows how many times a link within the navigations menu(s) has been clicked. However, users can view different pages of our website without using the navigation menu (such as googling a specific question and clicking on a result that takes them directly to the page of interest, without ever using the website's navigation). Additionally, not every page of our website has a link included in our main navigation menus (clearly, considering this data file only has 30 rows of observations). Therefore, while this tells us how our site's navigation was used, that does not provide the entire picture of content utilizaiton, unlike the scroll depth and sessions/engagement data files that provide specific URLs, and so I will not be pursuing this data file for the remainder of my project. "
   ]
  },
  {
   "cell_type": "markdown",
   "id": "228314b4-6635-4988-8382-cf07f976875e",
   "metadata": {},
   "source": [
    "### Final Thoughts on Milestone 1"
   ]
  },
  {
   "cell_type": "markdown",
   "id": "fc97a08e-b094-42a1-9f6d-173d12bbea10",
   "metadata": {},
   "source": [
    "Overall I believe continuing to work with the scroll depth data file and the sessions/engagement data file will provide the best insights for answering my driving question for this project. My next steps will be finalizing what story to tell through this data and how to do that with a data visualization. "
   ]
  },
  {
   "cell_type": "markdown",
   "id": "4ba1a933-a782-4f17-920a-5ec6a4802000",
   "metadata": {},
   "source": [
    "### *~ End Milestone 1 ~*\n",
    "\n",
    "### *~ Start Milestone 2 ~*"
   ]
  },
  {
   "cell_type": "markdown",
   "id": "0bcaa445-d4f4-476d-885e-9be16f9d6665",
   "metadata": {},
   "source": [
    "In the last milestone I explored all of my data files to determine which would be relevant for answering my project's driving question, and I ended up with two data files (scroll depth and sessions & engagement). From here I want to determine what story I want to tell using my data, as that will inform what my final visualization(s) will be. \n",
    "\n",
    "Last milestone I ended up with 3 graphs that I was using to see what the most viewed and engaged URLs (webpages) were for my department's website:\n",
    "\n",
    "1. Barplot of URLs with over 600 pageviews (using scroll depth DataFrame)\n",
    "2. Barplot of URLs with over 50 pageviews that had 100 Percent scroll depth (using scroll depth DataFrame)\n",
    "3. Barplot of URLs with over 500 engaged sessions and their engagement rates\n",
    "\n",
    "Before I move forward, I need to examine each URL in each of these plots to determine how many of these webpages even make sense to reccomend for preservation/migration. If I end up not having very many valid/logical URLs, then I need to expand my filtering of the data to include more data points; but if I have enough, then I will move forward with the filtered data I have already started creating visualizations for. "
   ]
  },
  {
   "cell_type": "code",
   "execution_count": 28,
   "id": "a09722e1-f6cf-4271-8650-18e09df34461",
   "metadata": {},
   "outputs": [
    {
     "data": {
      "text/html": [
       "<div>\n",
       "<style scoped>\n",
       "    .dataframe tbody tr th:only-of-type {\n",
       "        vertical-align: middle;\n",
       "    }\n",
       "\n",
       "    .dataframe tbody tr th {\n",
       "        vertical-align: top;\n",
       "    }\n",
       "\n",
       "    .dataframe thead th {\n",
       "        text-align: right;\n",
       "    }\n",
       "</style>\n",
       "<table border=\"1\" class=\"dataframe\">\n",
       "  <thead>\n",
       "    <tr style=\"text-align: right;\">\n",
       "      <th></th>\n",
       "      <th>Segment</th>\n",
       "      <th>Pageviews</th>\n",
       "      <th>50 Percent</th>\n",
       "      <th>75 Percent</th>\n",
       "      <th>100 Percent</th>\n",
       "    </tr>\n",
       "  </thead>\n",
       "  <tbody>\n",
       "    <tr>\n",
       "      <th>0</th>\n",
       "      <td>/lgbtq/common-ally-questions</td>\n",
       "      <td>14250</td>\n",
       "      <td>3726</td>\n",
       "      <td>2172</td>\n",
       "      <td>243</td>\n",
       "    </tr>\n",
       "    <tr>\n",
       "      <th>1</th>\n",
       "      <td>/lgbtq/symbols-ace-spectrum</td>\n",
       "      <td>8464</td>\n",
       "      <td>5899</td>\n",
       "      <td>3165</td>\n",
       "      <td>281</td>\n",
       "    </tr>\n",
       "    <tr>\n",
       "      <th>2</th>\n",
       "      <td>/lgbtq/pros-and-cons-being-ally</td>\n",
       "      <td>5281</td>\n",
       "      <td>3240</td>\n",
       "      <td>2116</td>\n",
       "      <td>281</td>\n",
       "    </tr>\n",
       "    <tr>\n",
       "      <th>3</th>\n",
       "      <td>/lgbtq</td>\n",
       "      <td>4625</td>\n",
       "      <td>2303</td>\n",
       "      <td>1891</td>\n",
       "      <td>693</td>\n",
       "    </tr>\n",
       "    <tr>\n",
       "      <th>4</th>\n",
       "      <td>/lgbtq/frequently-asked-questions-faq</td>\n",
       "      <td>2977</td>\n",
       "      <td>1161</td>\n",
       "      <td>786</td>\n",
       "      <td>131</td>\n",
       "    </tr>\n",
       "    <tr>\n",
       "      <th>5</th>\n",
       "      <td>/lgbtq/terminology-list</td>\n",
       "      <td>3202</td>\n",
       "      <td>487</td>\n",
       "      <td>300</td>\n",
       "      <td>19</td>\n",
       "    </tr>\n",
       "    <tr>\n",
       "      <th>6</th>\n",
       "      <td>/lgbtq/upcoming-events</td>\n",
       "      <td>1292</td>\n",
       "      <td>974</td>\n",
       "      <td>637</td>\n",
       "      <td>56</td>\n",
       "    </tr>\n",
       "    <tr>\n",
       "      <th>7</th>\n",
       "      <td>/housing/lgbtq-living-learning-community</td>\n",
       "      <td>1198</td>\n",
       "      <td>992</td>\n",
       "      <td>412</td>\n",
       "      <td>56</td>\n",
       "    </tr>\n",
       "    <tr>\n",
       "      <th>8</th>\n",
       "      <td>/lgbtq/lgbtq-community-resources</td>\n",
       "      <td>712</td>\n",
       "      <td>599</td>\n",
       "      <td>318</td>\n",
       "      <td>94</td>\n",
       "    </tr>\n",
       "    <tr>\n",
       "      <th>9</th>\n",
       "      <td>/lgbtq/ohio-legal-name-change-process</td>\n",
       "      <td>880</td>\n",
       "      <td>412</td>\n",
       "      <td>281</td>\n",
       "      <td>37</td>\n",
       "    </tr>\n",
       "    <tr>\n",
       "      <th>10</th>\n",
       "      <td>/lgbtq/other-ace-identities</td>\n",
       "      <td>674</td>\n",
       "      <td>618</td>\n",
       "      <td>225</td>\n",
       "      <td>37</td>\n",
       "    </tr>\n",
       "    <tr>\n",
       "      <th>11</th>\n",
       "      <td>/lgbtq/trans-ksu</td>\n",
       "      <td>824</td>\n",
       "      <td>393</td>\n",
       "      <td>281</td>\n",
       "      <td>19</td>\n",
       "    </tr>\n",
       "    <tr>\n",
       "      <th>13</th>\n",
       "      <td>/lgbtq/safe-space-and-other-trainings</td>\n",
       "      <td>693</td>\n",
       "      <td>412</td>\n",
       "      <td>262</td>\n",
       "      <td>19</td>\n",
       "    </tr>\n",
       "    <tr>\n",
       "      <th>14</th>\n",
       "      <td>/lgbtq/quest-mentorship-program</td>\n",
       "      <td>618</td>\n",
       "      <td>468</td>\n",
       "      <td>225</td>\n",
       "      <td>37</td>\n",
       "    </tr>\n",
       "  </tbody>\n",
       "</table>\n",
       "</div>"
      ],
      "text/plain": [
       "                                     Segment  Pageviews  50 Percent  \\\n",
       "0               /lgbtq/common-ally-questions      14250        3726   \n",
       "1                /lgbtq/symbols-ace-spectrum       8464        5899   \n",
       "2            /lgbtq/pros-and-cons-being-ally       5281        3240   \n",
       "3                                     /lgbtq       4625        2303   \n",
       "4      /lgbtq/frequently-asked-questions-faq       2977        1161   \n",
       "5                    /lgbtq/terminology-list       3202         487   \n",
       "6                     /lgbtq/upcoming-events       1292         974   \n",
       "7   /housing/lgbtq-living-learning-community       1198         992   \n",
       "8           /lgbtq/lgbtq-community-resources        712         599   \n",
       "9      /lgbtq/ohio-legal-name-change-process        880         412   \n",
       "10               /lgbtq/other-ace-identities        674         618   \n",
       "11                          /lgbtq/trans-ksu        824         393   \n",
       "13     /lgbtq/safe-space-and-other-trainings        693         412   \n",
       "14           /lgbtq/quest-mentorship-program        618         468   \n",
       "\n",
       "    75 Percent  100 Percent  \n",
       "0         2172          243  \n",
       "1         3165          281  \n",
       "2         2116          281  \n",
       "3         1891          693  \n",
       "4          786          131  \n",
       "5          300           19  \n",
       "6          637           56  \n",
       "7          412           56  \n",
       "8          318           94  \n",
       "9          281           37  \n",
       "10         225           37  \n",
       "11         281           19  \n",
       "13         262           19  \n",
       "14         225           37  "
      ]
     },
     "execution_count": 28,
     "metadata": {},
     "output_type": "execute_result"
    }
   ],
   "source": [
    "filtered_pageviews"
   ]
  },
  {
   "cell_type": "markdown",
   "id": "2e9c757d-e9b9-418f-9a4f-aaeb8d9dfed0",
   "metadata": {},
   "source": [
    "The filtered_pageviews DataFrame contains the following webpages:\n",
    "\n",
    "0 - [Common Ally Questions](https://www.kent.edu/lgbtq/common-ally-questions) - This is a webpage with the LGBTQ+ Center's website and because of its informational content is a valid contender for preservation/migration. \n",
    "\n",
    "1 - [Symbols of the Ace Spectrum](https://www.kent.edu/lgbtq/symbols-ace-spectrum) (which is part of a accordian menu on the [\"What is Asexuality?\" Resource Guide](https://www.kent.edu/lgbtq/what-asexuality-resource-guide)) - This is one of our webpages and also because of its informational content is a valid contender as well.\n",
    "\n",
    "2 - [Pros and Cons of Being an Ally](https://www.kent.edu/lgbtq/pros-and-cons-being-ally) - This is one of our webpages and is a valid contender. \n",
    "\n",
    "3 - [LGBTQ+ Center Homepage](https://www.kent.edu/lgbtq) - The thing about our homepage is that the content gets updated throughout the semester (different upcoming events we want to highlight), though the static content includes our center's mission statement, a link to donate to our LGBTQ+ Emergency Fund, and a couple embdedded informational YouTube videos. Again, considering the context of why I am doing this project, if our center were to close there would no longer be a mission statement, my understanding is we would no longer be able to offer the LGBTQ+ Emergency Fund, and I don't know what would happen to the YouTube videos since they would still be on YouTube (they are both published on the general Kent State YouTube account, not the LGBTQ+ Center's YouTube account, so I imagine they would still be accessible from YouTube unless it was decided to take them down from that platform as well). So I do not consider this URL to be a valid contender since it would not make sense to migrate its content somewhere else.\n",
    "\n",
    "4 - [Frequently Asked Questions](https://www.kent.edu/lgbtq/frequently-asked-questions-faq) - This is one of our webpages and also because of its informational contant this is a valid contender. \n",
    "\n",
    "5 - [Terminology List](https://www.kent.edu/lgbtq/terminology-list) - This is one of our webpages and because of its informational content this is a valid contender. \n",
    "\n",
    "6 - [Upcoming Events](https://www.kent.edu/lgbtq/upcoming-events) - This is one of our webpages, but as I explained in Milestone 1, if our center closes there will be no more upcoming events so it does not make sense to migrate this content somewhere else, and so this URL is not a contender. \n",
    "\n",
    "7 - [LGBTQ+ Living Learning Community](https://www.kent.edu/housing/lgbtq-living-learning-community) - This is not one of our center's webpages, this is from University Housing's website, so this isn't a contender. Also we're pretty sure the LGBTQ+ LLC isn't going to be able to exist anymore either, so it wouldn't make sense to save the content anyway. \n",
    "\n",
    "8 - [LGBTQ+ Community Resources](https://www.kent.edu/lgbtq/lgbtq-community-resources) - This is one of our webpages and features a dropdown menu of different LGBTQ+ related community resources (advocacy, medical, gay bars, affirming religious organizations, etc.). I think this is a valid contender but my concern with this one is that it has to be kept up to date or else it isn't useful. Maybe if I choose to recommend this content I should add that as a disclaimer. \n",
    "\n",
    "9 - [Ohio Legal Name Change Process](https://www.kent.edu/lgbtq/ohio-legal-name-change-process) - This is one of our webpages and I think this is an important resource because I know in person we get quite a few guests coming into our center to ask about the legal name change process, so I think this is definitely a contender. \n",
    "\n",
    "10 - [Other Ace Identities](https://www.kent.edu/lgbtq/other-ace-identities) - This is one of our webpages, and it is actually also one of the pages within the accordian on the [\"What is Asexuality?\" Resource Guide](https://www.kent.edu/lgbtq/what-asexuality-resource-guide), which to be clear is basically our Asexuality Brochure content put on our website, so yes this is a valid contender, but maybe it would make sense to reccommend all of this content to be preserved/migrated together since it is all related? I don't think it would make sense to reccommend only some information/resources on asexuality and not all of it. Maybe I should ask my Director. \n",
    "\n",
    "11 - [Trans @ KSU](https://www.kent.edu/lgbtq/trans-ksu) - This is one of our webpages, and it's contains a bunch of resources, on and off campus, for the transgender community, and the webpage has several of its own subpages sectioning the content into subcategories. This page basically acts as a landing page and from there folks find whatever specific content they are looking for. While many of these subpages themselves obviously don't have as many pageviews (since the only one included in the filtered DataFrame is the Ohio Legal Name Change Process), because the transgender community in particular is facing growing challenges (more like under attack, in my opinion) I think all of this content should be saved and migrated so it continues to be accessible in these challenging times, especially if our center does not exist as a resource for students to go to instead. I know I have personally created some of these subpages because we had students come in and ask us about those topics because they felt comfortable doing so because we are the LGBTQ+ Center. Without us, I am worried trans students will still have those same questions and concerns but not know where to get help or be comfortable asking for it, which is why I think all of this content should be saved. With all these considerations in mind, I don't think that is an unreasonable reccommendation (whether or not its plausible is out of my hands). \n",
    "\n",
    "13 - [Safe Space and Other Trainings](https://www.kent.edu/lgbtq/safe-space-and-other-trainings) - This is one of our webpages, and it talks about the different trainings our center offers. Without a center, there is not going to be any more of these trainings (and with the new law I don't think we could legally provide them anyway), so this URL is not a contender for reccommendation. \n",
    "\n",
    "14 - [Quest Mentorship Program](https://www.kent.edu/lgbtq/quest-mentorship-program) - This is one of our webpages, and it provides information related to our center's mentorship program (pairs students with professionals in the workforce, specifically focusing on being LGBTQ+ in the workplace but it is open to anyone). Again, without a center, this program will go away so this URL is not a contender. \n",
    "\n",
    "So out of these 14 URLs, there are 9 URLs that are valid contenders for being reccommended for preservation/migration, which I still think is a good amount, especially because some of them contain a lot of content. "
   ]
  },
  {
   "cell_type": "code",
   "execution_count": 29,
   "id": "2a575c25-4b09-418c-8950-3d07496dcf37",
   "metadata": {},
   "outputs": [
    {
     "data": {
      "text/html": [
       "<div>\n",
       "<style scoped>\n",
       "    .dataframe tbody tr th:only-of-type {\n",
       "        vertical-align: middle;\n",
       "    }\n",
       "\n",
       "    .dataframe tbody tr th {\n",
       "        vertical-align: top;\n",
       "    }\n",
       "\n",
       "    .dataframe thead th {\n",
       "        text-align: right;\n",
       "    }\n",
       "</style>\n",
       "<table border=\"1\" class=\"dataframe\">\n",
       "  <thead>\n",
       "    <tr style=\"text-align: right;\">\n",
       "      <th></th>\n",
       "      <th>Segment</th>\n",
       "      <th>Pageviews</th>\n",
       "      <th>50 Percent</th>\n",
       "      <th>75 Percent</th>\n",
       "      <th>100 Percent</th>\n",
       "    </tr>\n",
       "  </thead>\n",
       "  <tbody>\n",
       "    <tr>\n",
       "      <th>0</th>\n",
       "      <td>/lgbtq/common-ally-questions</td>\n",
       "      <td>14250</td>\n",
       "      <td>3726</td>\n",
       "      <td>2172</td>\n",
       "      <td>243</td>\n",
       "    </tr>\n",
       "    <tr>\n",
       "      <th>1</th>\n",
       "      <td>/lgbtq/symbols-ace-spectrum</td>\n",
       "      <td>8464</td>\n",
       "      <td>5899</td>\n",
       "      <td>3165</td>\n",
       "      <td>281</td>\n",
       "    </tr>\n",
       "    <tr>\n",
       "      <th>2</th>\n",
       "      <td>/lgbtq/pros-and-cons-being-ally</td>\n",
       "      <td>5281</td>\n",
       "      <td>3240</td>\n",
       "      <td>2116</td>\n",
       "      <td>281</td>\n",
       "    </tr>\n",
       "    <tr>\n",
       "      <th>3</th>\n",
       "      <td>/lgbtq</td>\n",
       "      <td>4625</td>\n",
       "      <td>2303</td>\n",
       "      <td>1891</td>\n",
       "      <td>693</td>\n",
       "    </tr>\n",
       "    <tr>\n",
       "      <th>4</th>\n",
       "      <td>/lgbtq/frequently-asked-questions-faq</td>\n",
       "      <td>2977</td>\n",
       "      <td>1161</td>\n",
       "      <td>786</td>\n",
       "      <td>131</td>\n",
       "    </tr>\n",
       "    <tr>\n",
       "      <th>6</th>\n",
       "      <td>/lgbtq/upcoming-events</td>\n",
       "      <td>1292</td>\n",
       "      <td>974</td>\n",
       "      <td>637</td>\n",
       "      <td>56</td>\n",
       "    </tr>\n",
       "    <tr>\n",
       "      <th>7</th>\n",
       "      <td>/housing/lgbtq-living-learning-community</td>\n",
       "      <td>1198</td>\n",
       "      <td>992</td>\n",
       "      <td>412</td>\n",
       "      <td>56</td>\n",
       "    </tr>\n",
       "    <tr>\n",
       "      <th>8</th>\n",
       "      <td>/lgbtq/lgbtq-community-resources</td>\n",
       "      <td>712</td>\n",
       "      <td>599</td>\n",
       "      <td>318</td>\n",
       "      <td>94</td>\n",
       "    </tr>\n",
       "    <tr>\n",
       "      <th>12</th>\n",
       "      <td>/lgbtq/center-staff</td>\n",
       "      <td>580</td>\n",
       "      <td>449</td>\n",
       "      <td>356</td>\n",
       "      <td>56</td>\n",
       "    </tr>\n",
       "    <tr>\n",
       "      <th>16</th>\n",
       "      <td>/lgbtq/transgender-resource-guide</td>\n",
       "      <td>487</td>\n",
       "      <td>449</td>\n",
       "      <td>300</td>\n",
       "      <td>75</td>\n",
       "    </tr>\n",
       "    <tr>\n",
       "      <th>23</th>\n",
       "      <td>/lgbtq/lgbtq-assistance-and-resources</td>\n",
       "      <td>375</td>\n",
       "      <td>318</td>\n",
       "      <td>187</td>\n",
       "      <td>94</td>\n",
       "    </tr>\n",
       "    <tr>\n",
       "      <th>26</th>\n",
       "      <td>/lgbtq/discover-lgbtq-kent-state</td>\n",
       "      <td>337</td>\n",
       "      <td>318</td>\n",
       "      <td>150</td>\n",
       "      <td>75</td>\n",
       "    </tr>\n",
       "    <tr>\n",
       "      <th>30</th>\n",
       "      <td>/lgbtq-studies</td>\n",
       "      <td>187</td>\n",
       "      <td>150</td>\n",
       "      <td>131</td>\n",
       "      <td>56</td>\n",
       "    </tr>\n",
       "  </tbody>\n",
       "</table>\n",
       "</div>"
      ],
      "text/plain": [
       "                                     Segment  Pageviews  50 Percent  \\\n",
       "0               /lgbtq/common-ally-questions      14250        3726   \n",
       "1                /lgbtq/symbols-ace-spectrum       8464        5899   \n",
       "2            /lgbtq/pros-and-cons-being-ally       5281        3240   \n",
       "3                                     /lgbtq       4625        2303   \n",
       "4      /lgbtq/frequently-asked-questions-faq       2977        1161   \n",
       "6                     /lgbtq/upcoming-events       1292         974   \n",
       "7   /housing/lgbtq-living-learning-community       1198         992   \n",
       "8           /lgbtq/lgbtq-community-resources        712         599   \n",
       "12                       /lgbtq/center-staff        580         449   \n",
       "16         /lgbtq/transgender-resource-guide        487         449   \n",
       "23     /lgbtq/lgbtq-assistance-and-resources        375         318   \n",
       "26          /lgbtq/discover-lgbtq-kent-state        337         318   \n",
       "30                            /lgbtq-studies        187         150   \n",
       "\n",
       "    75 Percent  100 Percent  \n",
       "0         2172          243  \n",
       "1         3165          281  \n",
       "2         2116          281  \n",
       "3         1891          693  \n",
       "4          786          131  \n",
       "6          637           56  \n",
       "7          412           56  \n",
       "8          318           94  \n",
       "12         356           56  \n",
       "16         300           75  \n",
       "23         187           94  \n",
       "26         150           75  \n",
       "30         131           56  "
      ]
     },
     "execution_count": 29,
     "metadata": {},
     "output_type": "execute_result"
    }
   ],
   "source": [
    "filtered_percent"
   ]
  },
  {
   "cell_type": "markdown",
   "id": "8272692f-b10d-4f81-9984-06274f5a36e2",
   "metadata": {},
   "source": [
    "The filtered_percent DataFrame contains the following webpages:\n",
    "\n",
    "0 - 4 - Same as filtered_pageviews DataFrame. 0, 1, 2, and 4 are valid contenders.\n",
    "\n",
    "6 - 8 - Same as filtered_pageviews DataFrame. 8 is a valid contender. \n",
    "\n",
    "12 - [Center Staff](https://www.kent.edu/lgbtq/center-staff) - This is one of our webpages and contains information about our center's staff (Director, Assistant Director, Graduate Assistant, and links to a subpage of our student interns). Of course, without a center, there is not going to be any staff, so this URL is not a contender. \n",
    "\n",
    "16 - [Transgender Resource Guide](https://www.kent.edu/lgbtq/transgender-resource-guide) - This is one of our webpages, and it is actually one of the subpages of the Trans @ KSU webpage. This Resource Guide is basically the web version of our printed transgender resource brochure that we keep in our center. I think this would be a valid contender on its own, but I would be reccommending it along with the rest of Trans @ KSU content anyway. \n",
    "\n",
    "23 - [LGBTQ Assistance and Resources](https://www.kent.edu/lgbtq/lgbtq-assistance-and-resources) - This is basically the Resources landing page which then contains many subpages of different types of resources. The webpage itself really doesn't have any important content, it really is just a landing page and a place to house all of our resources, so because of that I don't think this is a valid contender.\n",
    "\n",
    "26 - [Discover LGBTQ+ Kent State](https://www.kent.edu/lgbtq/discover-lgbtq-kent-state) - This is our center's \"About Us\" but with a different title and the page itself literally only has our mission statement and a link to our Contact Us page, all of which would be irrelevant if the center closes so this URL is not a valid contender.\n",
    "\n",
    "30 - [LGBTQ Studies](https://www.kent.edu/lgbtq-studies) - This is not our webapge, this is the homepage for the LGBTQ+ Studies program (housed in the School of MSSH), so this URL is not a valid contender. \n",
    "\n",
    "From this DataFrame there are only 6 URLs that would make sense to reccommend, and 5 of those were included in the first DataFrame and the 6th is a subpage of a URL that was included in the first DataFrame, so really this filtered_percent DataFrame (which tells me which URLs had the most pageviews with 100 Percent scroll depth) does not actually tell me anything new. Maybe I should consider only using the filtered_pageviews DataFrame from the Scroll Depth data file. "
   ]
  },
  {
   "cell_type": "code",
   "execution_count": 30,
   "id": "c9d20508-9459-4d02-ae60-97e13e6092d6",
   "metadata": {},
   "outputs": [
    {
     "data": {
      "text/html": [
       "<div>\n",
       "<style scoped>\n",
       "    .dataframe tbody tr th:only-of-type {\n",
       "        vertical-align: middle;\n",
       "    }\n",
       "\n",
       "    .dataframe tbody tr th {\n",
       "        vertical-align: top;\n",
       "    }\n",
       "\n",
       "    .dataframe thead th {\n",
       "        text-align: right;\n",
       "    }\n",
       "</style>\n",
       "<table border=\"1\" class=\"dataframe\">\n",
       "  <thead>\n",
       "    <tr style=\"text-align: right;\">\n",
       "      <th></th>\n",
       "      <th>Page path and screen class</th>\n",
       "      <th>Sessions</th>\n",
       "      <th>Engaged sessions</th>\n",
       "      <th>Engagement rate</th>\n",
       "      <th>Average session duration</th>\n",
       "    </tr>\n",
       "  </thead>\n",
       "  <tbody>\n",
       "    <tr>\n",
       "      <th>0</th>\n",
       "      <td>/lgbtq/common-ally-questions</td>\n",
       "      <td>14036</td>\n",
       "      <td>7999</td>\n",
       "      <td>0.569892</td>\n",
       "      <td>127.438253</td>\n",
       "    </tr>\n",
       "    <tr>\n",
       "      <th>1</th>\n",
       "      <td>/lgbtq/symbols-ace-spectrum</td>\n",
       "      <td>8480</td>\n",
       "      <td>5585</td>\n",
       "      <td>0.658608</td>\n",
       "      <td>62.766498</td>\n",
       "    </tr>\n",
       "    <tr>\n",
       "      <th>2</th>\n",
       "      <td>/lgbtq/pros-and-cons-being-ally</td>\n",
       "      <td>5093</td>\n",
       "      <td>3281</td>\n",
       "      <td>0.644218</td>\n",
       "      <td>138.905469</td>\n",
       "    </tr>\n",
       "    <tr>\n",
       "      <th>3</th>\n",
       "      <td>/lgbtq</td>\n",
       "      <td>4441</td>\n",
       "      <td>3687</td>\n",
       "      <td>0.830218</td>\n",
       "      <td>151.891271</td>\n",
       "    </tr>\n",
       "    <tr>\n",
       "      <th>4</th>\n",
       "      <td>/lgbtq/terminology-list</td>\n",
       "      <td>3359</td>\n",
       "      <td>2422</td>\n",
       "      <td>0.721048</td>\n",
       "      <td>104.620323</td>\n",
       "    </tr>\n",
       "    <tr>\n",
       "      <th>5</th>\n",
       "      <td>/lgbtq/frequently-asked-questions-faq</td>\n",
       "      <td>2949</td>\n",
       "      <td>1965</td>\n",
       "      <td>0.666328</td>\n",
       "      <td>158.740201</td>\n",
       "    </tr>\n",
       "    <tr>\n",
       "      <th>6</th>\n",
       "      <td>/lgbtq/upcoming-events</td>\n",
       "      <td>1185</td>\n",
       "      <td>918</td>\n",
       "      <td>0.774684</td>\n",
       "      <td>119.601071</td>\n",
       "    </tr>\n",
       "    <tr>\n",
       "      <th>7</th>\n",
       "      <td>/lgbtq/ohio-legal-name-change-process</td>\n",
       "      <td>1089</td>\n",
       "      <td>749</td>\n",
       "      <td>0.687787</td>\n",
       "      <td>139.705500</td>\n",
       "    </tr>\n",
       "    <tr>\n",
       "      <th>8</th>\n",
       "      <td>/housing/lgbtq-living-learning-community</td>\n",
       "      <td>814</td>\n",
       "      <td>721</td>\n",
       "      <td>0.885749</td>\n",
       "      <td>103.146535</td>\n",
       "    </tr>\n",
       "    <tr>\n",
       "      <th>9</th>\n",
       "      <td>/lgbtq/safe-space-and-other-trainings</td>\n",
       "      <td>789</td>\n",
       "      <td>624</td>\n",
       "      <td>0.790875</td>\n",
       "      <td>167.845683</td>\n",
       "    </tr>\n",
       "    <tr>\n",
       "      <th>10</th>\n",
       "      <td>/colleges/ph/lgbtq-public-health-graduate-cert...</td>\n",
       "      <td>721</td>\n",
       "      <td>623</td>\n",
       "      <td>0.864078</td>\n",
       "      <td>119.902872</td>\n",
       "    </tr>\n",
       "    <tr>\n",
       "      <th>11</th>\n",
       "      <td>/lgbtq/center-staff</td>\n",
       "      <td>718</td>\n",
       "      <td>648</td>\n",
       "      <td>0.902507</td>\n",
       "      <td>102.982073</td>\n",
       "    </tr>\n",
       "    <tr>\n",
       "      <th>12</th>\n",
       "      <td>/lgbtq/lgbtq-programs-and-events</td>\n",
       "      <td>655</td>\n",
       "      <td>606</td>\n",
       "      <td>0.925191</td>\n",
       "      <td>70.618330</td>\n",
       "    </tr>\n",
       "    <tr>\n",
       "      <th>13</th>\n",
       "      <td>/lgbtq/trans-ksu</td>\n",
       "      <td>624</td>\n",
       "      <td>530</td>\n",
       "      <td>0.849359</td>\n",
       "      <td>121.506583</td>\n",
       "    </tr>\n",
       "  </tbody>\n",
       "</table>\n",
       "</div>"
      ],
      "text/plain": [
       "                           Page path and screen class  Sessions  \\\n",
       "0                        /lgbtq/common-ally-questions     14036   \n",
       "1                         /lgbtq/symbols-ace-spectrum      8480   \n",
       "2                     /lgbtq/pros-and-cons-being-ally      5093   \n",
       "3                                              /lgbtq      4441   \n",
       "4                             /lgbtq/terminology-list      3359   \n",
       "5               /lgbtq/frequently-asked-questions-faq      2949   \n",
       "6                              /lgbtq/upcoming-events      1185   \n",
       "7               /lgbtq/ohio-legal-name-change-process      1089   \n",
       "8            /housing/lgbtq-living-learning-community       814   \n",
       "9               /lgbtq/safe-space-and-other-trainings       789   \n",
       "10  /colleges/ph/lgbtq-public-health-graduate-cert...       721   \n",
       "11                                /lgbtq/center-staff       718   \n",
       "12                   /lgbtq/lgbtq-programs-and-events       655   \n",
       "13                                   /lgbtq/trans-ksu       624   \n",
       "\n",
       "    Engaged sessions  Engagement rate  Average session duration  \n",
       "0               7999         0.569892                127.438253  \n",
       "1               5585         0.658608                 62.766498  \n",
       "2               3281         0.644218                138.905469  \n",
       "3               3687         0.830218                151.891271  \n",
       "4               2422         0.721048                104.620323  \n",
       "5               1965         0.666328                158.740201  \n",
       "6                918         0.774684                119.601071  \n",
       "7                749         0.687787                139.705500  \n",
       "8                721         0.885749                103.146535  \n",
       "9                624         0.790875                167.845683  \n",
       "10               623         0.864078                119.902872  \n",
       "11               648         0.902507                102.982073  \n",
       "12               606         0.925191                 70.618330  \n",
       "13               530         0.849359                121.506583  "
      ]
     },
     "execution_count": 30,
     "metadata": {},
     "output_type": "execute_result"
    }
   ],
   "source": [
    "filtered_se"
   ]
  },
  {
   "cell_type": "code",
   "execution_count": 31,
   "id": "2d8b640b-48d7-4e5e-9308-804087461c40",
   "metadata": {},
   "outputs": [
    {
     "data": {
      "text/plain": [
       "'/colleges/ph/lgbtq-public-health-graduate-certificate/'"
      ]
     },
     "execution_count": 31,
     "metadata": {},
     "output_type": "execute_result"
    }
   ],
   "source": [
    "filtered_se['Page path and screen class'][10]"
   ]
  },
  {
   "cell_type": "markdown",
   "id": "7dd53f01-9afd-494d-8cf9-89dea9cc82c2",
   "metadata": {},
   "source": [
    "The filtered_se DataFrame contains nearly the exact same list of URLs as the filtered_pageviews DataFrame with the exception of a few rows near the end. \n",
    "\n",
    "10 - I actually couldn't figure out what the full URL for this one was; www.kent.edu/colleges/ph/lgbtq-public-health/graduate/certificate pulls up a 404 error. Regardless, since it starts with \"/colleges\" this isn't a webapge on our center's website anyway so it is not a valid contender. \n",
    "\n",
    "11 - Center Staff - Again, this information does not make sense to save, so it is not a valid contender. \n",
    "\n",
    "12 - [LGBTQ Programs and Events](https://www.kent.edu/lgbtq/lgbtq-programs-and-events) - This is basically a landing page that links to our center's main programs and events and it contains subpages for things like the Rainbow Run 5K, Lavender Celebration, our Social Groups, etc. Since these programs and events would cease with the closing of our center, there is no reason to migrate this content somewhere else, so this is not a valid contender. \n",
    "\n",
    "So in this DataFrame I have 7 valid URLs, all of which are also present in the filtered_pageviews DataFrame as well. I still think I would like to continue using this DataFrame though because I think Engagement Rate can be used as a variable to further narrow down content if needed. "
   ]
  },
  {
   "cell_type": "markdown",
   "id": "04847e6d-7227-4572-af4a-f94dcbcd0594",
   "metadata": {},
   "source": [
    "So the filtered_pageviews DataFrame gave me 9 valid URLs and the filtered_se DataFrame gave me 7 valid URLs that are all also included in the first DataFrame. The remaining 2 URLs in the first DataFrame are the LGBTQ+ Community Resources page and the Other Ace Identities page. However, like I mentioned eariler I think all of the asexual-related content should be reccommended together, so I am okay that that particular page does not show up in the second DataFrame, and the LGBTQ+ Community Resources page was the one I said I would add a disclaimer to that the information would need to stay up-to-date, so I am also okay with that one not being in the second DataFrame. Therefore, my plan is to definitely reccommend the content of the 7 URLs present in both DataFrames, and then to suggest the possibility of also saving the LGBTQ+ Community Resources content with its disclaimer somewhere. I would have to figure out in my final visualization how that would work. "
   ]
  },
  {
   "cell_type": "markdown",
   "id": "58d85c5b-0cc7-47d9-8da1-18ff9f359fe3",
   "metadata": {},
   "source": [
    "Speaking of visualizations, I received feedback that a horizontal barplot would be better to read the URL text within the graph. Therefore, I created two horizontal barplots for my two DataFrames."
   ]
  },
  {
   "cell_type": "code",
   "execution_count": 32,
   "id": "3e3702e8-9fe8-4a69-a25a-80c73199b2e3",
   "metadata": {},
   "outputs": [
    {
     "data": {
      "image/png": "[encoded data removed]",
      "text/plain": [
       "<Figure size 640x480 with 1 Axes>"
      ]
     },
     "metadata": {},
     "output_type": "display_data"
    }
   ],
   "source": [
    "sns.barplot(data = filtered_pageviews, x = 'Pageviews', y = 'Segment', orient = 'h')\n",
    "plt.show()"
   ]
  },
  {
   "cell_type": "code",
   "execution_count": 33,
   "id": "5471868a-2220-435f-9e67-e736f7a097f3",
   "metadata": {},
   "outputs": [
    {
     "data": {
      "image/png": "[encoded data removed]",
      "text/plain": [
       "<Figure size 640x480 with 1 Axes>"
      ]
     },
     "metadata": {},
     "output_type": "display_data"
    }
   ],
   "source": [
    "sns.barplot(data = filtered_se, x = 'Engagement rate', y = 'Page path and screen class', orient = 'h')\n",
    "plt.show()"
   ]
  },
  {
   "cell_type": "markdown",
   "id": "3d6b0e61-3047-4201-8ecd-c27d9f217405",
   "metadata": {},
   "source": [
    "The above two graphs definitly look better and are actually readable. I would want to color-code the bars so that my reccommended URLs stand out with one color and the rest of the URLs are just gray since they don't matter to the story. I don't have time to mess with that now but that would definitely be a next step. \n",
    "\n",
    "I think the horizontal barplot is a good visualization for the filtered_pageviews DataFrame since that is just showing the quantity of pageviews over 500, but I wonder if there is a potentially better type of visualization for the filtered_se DataFrame. That graph is showing the Engagement rates for URLs with the highest Engaged sessions, but from the barplot it is not clear that those URLs have the highest Engaged Sessions unless I were to explicitly state that somewhere. It also might be beneficial to see how the quantity of Engaged sessions compares to the Engagement rate for each URL. Maybe a scatterplot would be better."
   ]
  },
  {
   "cell_type": "code",
   "execution_count": 34,
   "id": "fed4d714-6221-4d67-b24d-fc92bfdefd8c",
   "metadata": {},
   "outputs": [
    {
     "data": {
      "image/png": "[encoded data removed]",
      "text/plain": [
       "<Figure size 640x480 with 1 Axes>"
      ]
     },
     "metadata": {},
     "output_type": "display_data"
    }
   ],
   "source": [
    "sns.scatterplot(filtered_se, x = 'Engaged sessions', y = 'Engagement rate', alpha = 0.5)\n",
    "plt.show()"
   ]
  },
  {
   "cell_type": "markdown",
   "id": "c5e4e3b9-0da9-4784-8a42-aaac16daa191",
   "metadata": {},
   "source": [
    "This graph is nice because now I can see the quantities for both total number of Engaged session and the Engagement rate at the same time. If I were to move forward with this graph, I would also want to color-code the points of my reccommended URLs with a color (the same color, whatever it is, that I choose for the barplot) and have the rest of the points be gray. I would also probably want to label each of those colored points to make it clear which URL it is representing. "
   ]
  },
  {
   "cell_type": "markdown",
   "id": "f6bd4d5c-f230-405d-8ff3-af97439ddf78",
   "metadata": {},
   "source": [
    "### Final Thoughts on Milestone 2"
   ]
  },
  {
   "cell_type": "markdown",
   "id": "a9811829-c949-43bb-9527-20c5b9c4beb9",
   "metadata": {},
   "source": [
    "I was not able to get a ton of actually data visualization done for this milestone, but I am happy that I have a plan for what content I will be reccommending and representing in my final visualizations and that I have worked through how and why I am making those reccommendations. For the next milestone, I will need to work on really developing these graphs."
   ]
  },
  {
   "cell_type": "markdown",
   "id": "18556eda-c883-4954-a723-8d1ddbafc3b8",
   "metadata": {},
   "source": [
    "### *~End Milestone 2 ~*"
   ]
  }
 ],
 "metadata": {
  "kernelspec": {
   "display_name": "Python 3 (ipykernel)",
   "language": "python",
   "name": "python3"
  },
  "language_info": {
   "codemirror_mode": {
    "name": "ipython",
    "version": 3
   },
   "file_extension": ".py",
   "mimetype": "text/x-python",
   "name": "python",
   "nbconvert_exporter": "python",
   "pygments_lexer": "ipython3",
   "version": "3.12.8"
  }
 },
 "nbformat": 4,
 "nbformat_minor": 5
}
